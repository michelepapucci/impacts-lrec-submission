{
 "cells": [
  {
   "cell_type": "code",
   "execution_count": 1,
   "id": "c6fd266f",
   "metadata": {},
   "outputs": [
    {
     "name": "stdout",
     "output_type": "stream",
     "text": [
      "Collecting pandas\n",
      "  Downloading pandas-2.3.3-cp310-cp310-manylinux_2_24_x86_64.manylinux_2_28_x86_64.whl (12.8 MB)\n",
      "\u001b[2K     \u001b[90m━━━━━━━━━━━━━━━━━━━━━━━━━━━━━━━━━━━━━━━━\u001b[0m \u001b[32m12.8/12.8 MB\u001b[0m \u001b[31m78.2 MB/s\u001b[0m eta \u001b[36m0:00:00\u001b[0m00:01\u001b[0m00:01\u001b[0m\n",
      "\u001b[?25hCollecting pytz>=2020.1\n",
      "  Using cached pytz-2025.2-py2.py3-none-any.whl (509 kB)\n",
      "Requirement already satisfied: python-dateutil>=2.8.2 in ./.venv/lib/python3.10/site-packages (from pandas) (2.9.0.post0)\n",
      "Collecting numpy>=1.22.4\n",
      "  Using cached numpy-2.2.6-cp310-cp310-manylinux_2_17_x86_64.manylinux2014_x86_64.whl (16.8 MB)\n",
      "Requirement already satisfied: tzdata>=2022.7 in ./.venv/lib/python3.10/site-packages (from pandas) (2025.2)\n",
      "Requirement already satisfied: six>=1.5 in ./.venv/lib/python3.10/site-packages (from python-dateutil>=2.8.2->pandas) (1.17.0)\n",
      "Installing collected packages: pytz, numpy, pandas\n",
      "Successfully installed numpy-2.2.6 pandas-2.3.3 pytz-2025.2\n"
     ]
    }
   ],
   "source": [
    "!pip install pandas"
   ]
  },
  {
   "cell_type": "code",
   "execution_count": 2,
   "id": "5fd4c653",
   "metadata": {},
   "outputs": [],
   "source": [
    "import pandas as pd"
   ]
  },
  {
   "cell_type": "markdown",
   "id": "44b9e771",
   "metadata": {},
   "source": [
    "### Opening IMPaCTS with Pandas"
   ]
  },
  {
   "cell_type": "code",
   "execution_count": 3,
   "id": "59fc4a41",
   "metadata": {},
   "outputs": [],
   "source": [
    "df = pd.read_csv(\"IMPaCTS.zip\", compression=\"zip\")"
   ]
  },
  {
   "cell_type": "markdown",
   "id": "d9b80f3d",
   "metadata": {},
   "source": [
    "### Choosing a Domain"
   ]
  },
  {
   "cell_type": "code",
   "execution_count": 4,
   "id": "bbe1ab6c",
   "metadata": {},
   "outputs": [],
   "source": [
    "wiki = df[df[\"domain\"] == \"wikipedia\"]\n",
    "pa = df[df[\"domain\"] == \"public_administration\"]"
   ]
  },
  {
   "cell_type": "code",
   "execution_count": 5,
   "id": "2d022e37",
   "metadata": {},
   "outputs": [
    {
     "data": {
      "text/html": [
       "<div>\n",
       "<style scoped>\n",
       "    .dataframe tbody tr th:only-of-type {\n",
       "        vertical-align: middle;\n",
       "    }\n",
       "\n",
       "    .dataframe tbody tr th {\n",
       "        vertical-align: top;\n",
       "    }\n",
       "\n",
       "    .dataframe thead th {\n",
       "        text-align: right;\n",
       "    }\n",
       "</style>\n",
       "<table border=\"1\" class=\"dataframe\">\n",
       "  <thead>\n",
       "    <tr style=\"text-align: right;\">\n",
       "      <th></th>\n",
       "      <th>idx</th>\n",
       "      <th>original_sentence_idx</th>\n",
       "      <th>original_text</th>\n",
       "      <th>simplification</th>\n",
       "      <th>original_base</th>\n",
       "      <th>original_lexical</th>\n",
       "      <th>original_syntax</th>\n",
       "      <th>original_all</th>\n",
       "      <th>simplification_base</th>\n",
       "      <th>simplification_lexical</th>\n",
       "      <th>...</th>\n",
       "      <th>subordinate_pre_original</th>\n",
       "      <th>subordinate_post_original</th>\n",
       "      <th>verb_edges_dist_3_original</th>\n",
       "      <th>verb_edges_dist_0_original</th>\n",
       "      <th>verb_edges_dist_5_original</th>\n",
       "      <th>verb_edges_dist_1_original</th>\n",
       "      <th>verb_edges_dist_2_original</th>\n",
       "      <th>verb_edges_dist_6_original</th>\n",
       "      <th>verb_edges_dist_4_original</th>\n",
       "      <th>avg_verb_edges_original</th>\n",
       "    </tr>\n",
       "  </thead>\n",
       "  <tbody>\n",
       "    <tr>\n",
       "      <th>0</th>\n",
       "      <td>0</td>\n",
       "      <td>0</td>\n",
       "      <td>La prima importante interpretazione è nel film...</td>\n",
       "      <td>La prima importante interpretazione è nel film...</td>\n",
       "      <td>0.63665</td>\n",
       "      <td>0.412736</td>\n",
       "      <td>0.515156</td>\n",
       "      <td>0.460921</td>\n",
       "      <td>0.636650</td>\n",
       "      <td>0.412736</td>\n",
       "      <td>...</td>\n",
       "      <td>0.0</td>\n",
       "      <td>100.0</td>\n",
       "      <td>0.0</td>\n",
       "      <td>0.0</td>\n",
       "      <td>0.0</td>\n",
       "      <td>100.0</td>\n",
       "      <td>0.0</td>\n",
       "      <td>0.0</td>\n",
       "      <td>0.0</td>\n",
       "      <td>1.0</td>\n",
       "    </tr>\n",
       "    <tr>\n",
       "      <th>1</th>\n",
       "      <td>1</td>\n",
       "      <td>0</td>\n",
       "      <td>La prima importante interpretazione è nel film...</td>\n",
       "      <td>La prima importante interpretazione è nel film...</td>\n",
       "      <td>0.63665</td>\n",
       "      <td>0.412736</td>\n",
       "      <td>0.515156</td>\n",
       "      <td>0.460921</td>\n",
       "      <td>0.548029</td>\n",
       "      <td>0.427441</td>\n",
       "      <td>...</td>\n",
       "      <td>0.0</td>\n",
       "      <td>100.0</td>\n",
       "      <td>0.0</td>\n",
       "      <td>0.0</td>\n",
       "      <td>0.0</td>\n",
       "      <td>100.0</td>\n",
       "      <td>0.0</td>\n",
       "      <td>0.0</td>\n",
       "      <td>0.0</td>\n",
       "      <td>1.0</td>\n",
       "    </tr>\n",
       "    <tr>\n",
       "      <th>2</th>\n",
       "      <td>2</td>\n",
       "      <td>0</td>\n",
       "      <td>La prima importante interpretazione è nel film...</td>\n",
       "      <td>La prima importante interpretazione di Ruth Wi...</td>\n",
       "      <td>0.63665</td>\n",
       "      <td>0.412736</td>\n",
       "      <td>0.515156</td>\n",
       "      <td>0.460921</td>\n",
       "      <td>0.663926</td>\n",
       "      <td>0.387021</td>\n",
       "      <td>...</td>\n",
       "      <td>0.0</td>\n",
       "      <td>100.0</td>\n",
       "      <td>0.0</td>\n",
       "      <td>0.0</td>\n",
       "      <td>0.0</td>\n",
       "      <td>100.0</td>\n",
       "      <td>0.0</td>\n",
       "      <td>0.0</td>\n",
       "      <td>0.0</td>\n",
       "      <td>1.0</td>\n",
       "    </tr>\n",
       "    <tr>\n",
       "      <th>3</th>\n",
       "      <td>3</td>\n",
       "      <td>0</td>\n",
       "      <td>La prima importante interpretazione è nel film...</td>\n",
       "      <td>Camera con vista è un film del 1985 diretto da...</td>\n",
       "      <td>0.63665</td>\n",
       "      <td>0.412736</td>\n",
       "      <td>0.515156</td>\n",
       "      <td>0.460921</td>\n",
       "      <td>0.460720</td>\n",
       "      <td>0.271347</td>\n",
       "      <td>...</td>\n",
       "      <td>0.0</td>\n",
       "      <td>100.0</td>\n",
       "      <td>0.0</td>\n",
       "      <td>0.0</td>\n",
       "      <td>0.0</td>\n",
       "      <td>100.0</td>\n",
       "      <td>0.0</td>\n",
       "      <td>0.0</td>\n",
       "      <td>0.0</td>\n",
       "      <td>1.0</td>\n",
       "    </tr>\n",
       "    <tr>\n",
       "      <th>4</th>\n",
       "      <td>4</td>\n",
       "      <td>0</td>\n",
       "      <td>La prima importante interpretazione è nel film...</td>\n",
       "      <td>Il film di James Ivory \"Camera con vista\" (tra...</td>\n",
       "      <td>0.63665</td>\n",
       "      <td>0.412736</td>\n",
       "      <td>0.515156</td>\n",
       "      <td>0.460921</td>\n",
       "      <td>0.363608</td>\n",
       "      <td>0.294182</td>\n",
       "      <td>...</td>\n",
       "      <td>0.0</td>\n",
       "      <td>100.0</td>\n",
       "      <td>0.0</td>\n",
       "      <td>0.0</td>\n",
       "      <td>0.0</td>\n",
       "      <td>100.0</td>\n",
       "      <td>0.0</td>\n",
       "      <td>0.0</td>\n",
       "      <td>0.0</td>\n",
       "      <td>1.0</td>\n",
       "    </tr>\n",
       "  </tbody>\n",
       "</table>\n",
       "<p>5 rows × 329 columns</p>\n",
       "</div>"
      ],
      "text/plain": [
       "   idx  original_sentence_idx  \\\n",
       "0    0                      0   \n",
       "1    1                      0   \n",
       "2    2                      0   \n",
       "3    3                      0   \n",
       "4    4                      0   \n",
       "\n",
       "                                       original_text  \\\n",
       "0  La prima importante interpretazione è nel film...   \n",
       "1  La prima importante interpretazione è nel film...   \n",
       "2  La prima importante interpretazione è nel film...   \n",
       "3  La prima importante interpretazione è nel film...   \n",
       "4  La prima importante interpretazione è nel film...   \n",
       "\n",
       "                                      simplification  original_base  \\\n",
       "0  La prima importante interpretazione è nel film...        0.63665   \n",
       "1  La prima importante interpretazione è nel film...        0.63665   \n",
       "2  La prima importante interpretazione di Ruth Wi...        0.63665   \n",
       "3  Camera con vista è un film del 1985 diretto da...        0.63665   \n",
       "4  Il film di James Ivory \"Camera con vista\" (tra...        0.63665   \n",
       "\n",
       "   original_lexical  original_syntax  original_all  simplification_base  \\\n",
       "0          0.412736         0.515156      0.460921             0.636650   \n",
       "1          0.412736         0.515156      0.460921             0.548029   \n",
       "2          0.412736         0.515156      0.460921             0.663926   \n",
       "3          0.412736         0.515156      0.460921             0.460720   \n",
       "4          0.412736         0.515156      0.460921             0.363608   \n",
       "\n",
       "   simplification_lexical  ...  subordinate_pre_original  \\\n",
       "0                0.412736  ...                       0.0   \n",
       "1                0.427441  ...                       0.0   \n",
       "2                0.387021  ...                       0.0   \n",
       "3                0.271347  ...                       0.0   \n",
       "4                0.294182  ...                       0.0   \n",
       "\n",
       "   subordinate_post_original verb_edges_dist_3_original  \\\n",
       "0                      100.0                        0.0   \n",
       "1                      100.0                        0.0   \n",
       "2                      100.0                        0.0   \n",
       "3                      100.0                        0.0   \n",
       "4                      100.0                        0.0   \n",
       "\n",
       "   verb_edges_dist_0_original  verb_edges_dist_5_original  \\\n",
       "0                         0.0                         0.0   \n",
       "1                         0.0                         0.0   \n",
       "2                         0.0                         0.0   \n",
       "3                         0.0                         0.0   \n",
       "4                         0.0                         0.0   \n",
       "\n",
       "   verb_edges_dist_1_original  verb_edges_dist_2_original  \\\n",
       "0                       100.0                         0.0   \n",
       "1                       100.0                         0.0   \n",
       "2                       100.0                         0.0   \n",
       "3                       100.0                         0.0   \n",
       "4                       100.0                         0.0   \n",
       "\n",
       "   verb_edges_dist_6_original  verb_edges_dist_4_original  \\\n",
       "0                         0.0                         0.0   \n",
       "1                         0.0                         0.0   \n",
       "2                         0.0                         0.0   \n",
       "3                         0.0                         0.0   \n",
       "4                         0.0                         0.0   \n",
       "\n",
       "   avg_verb_edges_original  \n",
       "0                      1.0  \n",
       "1                      1.0  \n",
       "2                      1.0  \n",
       "3                      1.0  \n",
       "4                      1.0  \n",
       "\n",
       "[5 rows x 329 columns]"
      ]
     },
     "execution_count": 5,
     "metadata": {},
     "output_type": "execute_result"
    }
   ],
   "source": [
    "wiki.head()"
   ]
  },
  {
   "cell_type": "markdown",
   "id": "ba590242",
   "metadata": {},
   "source": [
    "### Getting all original sentences"
   ]
  },
  {
   "cell_type": "code",
   "execution_count": null,
   "id": "7a8e06b6",
   "metadata": {},
   "outputs": [
    {
     "name": "stdout",
     "output_type": "stream",
     "text": [
      "Number of original sentences in Public Administration domain: 40462 / Number of total sentence pairs: 385200\n"
     ]
    }
   ],
   "source": [
    "pa_og = pa.groupby(\"original_sentence_idx\").nth(0) # gets only the first pair for each original sentence in Public Administration domain\n",
    "print(f\"Number of original sentences in Public Administration domain: {len(pa_og)} / Number of total sentence pairs: {len(pa)}\")"
   ]
  },
  {
   "cell_type": "markdown",
   "id": "1e803f36",
   "metadata": {},
   "source": [
    "### Extracting a specific original sentence and all its simplification ranked by Read-IT score"
   ]
  },
  {
   "cell_type": "code",
   "execution_count": 11,
   "id": "4f645f09",
   "metadata": {},
   "outputs": [],
   "source": [
    "target_original_sentence_id = 110992"
   ]
  },
  {
   "cell_type": "code",
   "execution_count": null,
   "id": "0c57c95a",
   "metadata": {},
   "outputs": [],
   "source": [
    "target_pairs = df[df['original_sentence_idx'] == target_original_sentence_id]"
   ]
  },
  {
   "cell_type": "code",
   "execution_count": 16,
   "id": "cb450668",
   "metadata": {},
   "outputs": [],
   "source": [
    "ordered_pairs = target_pairs.sort_values(by='simplification_all', ascending=False).reset_index(drop=True)"
   ]
  },
  {
   "cell_type": "code",
   "execution_count": 18,
   "id": "10b79c28",
   "metadata": {},
   "outputs": [
    {
     "name": "stdout",
     "output_type": "stream",
     "text": [
      "Original Sentence: <<Gli effetti sulla salute del particolato atmosferico sono opportunamente distinti in effetti a breve termine (acuti) ed a lungo termine (cronici).>>\n",
      "Read-IT Score: 0.6633380798152118\n",
      "-----\n",
      "Simplified Sentence: <<Breve termine:\n",
      "Cronici:\n",
      "Gli effetti sulla salute del particolato atmosferico sono opportunamente distinti in effetti a breve termine (acuti) ed a lungo termine (cronici).\n",
      "\n",
      "I particolati atmosferici includono una varietà di piccoli materiali solidi e liquidi in sospensione nell'aria. I particolati atmosferici più comuni sono polveri sottili, polvere di strada, spore di funghi, spore di alghe, polvere da costruzione e polvere da>>\n",
      "Read-IT Score: 0.5569021901906309\n",
      "-----\n",
      "Simplified Sentence: <<Gli effetti sulla salute del particolato atmosferico sono distinti in effetti a breve termine (acuti) ed effetti a lungo termine (cronici).>>\n",
      "Read-IT Score: 0.5381830911203559\n",
      "-----\n",
      "Simplified Sentence: <<Breve termine:\n",
      "Cronici:\n",
      "Gli effetti sulla salute del particolato atmosferico sono opportunamente distinti in effetti a breve termine (acuti) ed a lungo termine (cronici).\n",
      "\n",
      "I particolati atmosferici includono una varietà di piccoli materiali solidi e liquidi in sospensione nell'aria. I particolati atmosferici più comuni sono polveri sottili, polvere di strada, spore di funghi, spore di alghe, polvere da costruzione, polvere da>>\n",
      "Read-IT Score: 0.5358601655602007\n",
      "-----\n",
      "Simplified Sentence: <<La salute a breve termine (acute) e a lungo termine (cronici) gli effetti del particolato atmosferico sono distinti.>>\n",
      "Read-IT Score: 0.3564788689680475\n",
      "-----\n",
      "Simplified Sentence: <<La polvere atmosferica ha effetti a breve termine (acuti) e a lungo termine (cronici) sulla nostra salute.>>\n",
      "Read-IT Score: 0.3491488738584946\n",
      "-----\n",
      "Simplified Sentence: <<La polvere atmosferica ha effetti a breve termine (acuti) e a lungo termine (cronici) sulla salute.>>\n",
      "Read-IT Score: 0.3240368863489394\n",
      "-----\n",
      "Simplified Sentence: <<Il particolato atmosferico ha effetti a breve termine e a lungo termine sulla salute.>>\n",
      "Read-IT Score: 0.2920538689338232\n",
      "-----\n",
      "Simplified Sentence: <<L'inquinamento atmosferico ha effetti acuti e cronici sulla salute.>>\n",
      "Read-IT Score: 0.0746411346032\n",
      "-----\n",
      "Simplified Sentence: <<Il particolato atmosferico ha effetti acuti e cronici sulla salute.>>\n",
      "Read-IT Score: 0.067017649057219\n",
      "-----\n"
     ]
    }
   ],
   "source": [
    "for index, row in ordered_pairs.iterrows():\n",
    "    if index == 0:\n",
    "        print(f\"Original Sentence: <<{row['original_text']}>>\\nRead-IT Score: {row['original_all']}\\n-----\")\n",
    "    else:\n",
    "        print(f\"Simplified Sentence: <<{row['simplification']}>>\\nRead-IT Score: {row['simplification_all']}\\n-----\")"
   ]
  }
 ],
 "metadata": {
  "kernelspec": {
   "display_name": ".venv (3.10.12)",
   "language": "python",
   "name": "python3"
  },
  "language_info": {
   "codemirror_mode": {
    "name": "ipython",
    "version": 3
   },
   "file_extension": ".py",
   "mimetype": "text/x-python",
   "name": "python",
   "nbconvert_exporter": "python",
   "pygments_lexer": "ipython3",
   "version": "3.10.12"
  }
 },
 "nbformat": 4,
 "nbformat_minor": 5
}
